{
 "cells": [
  {
   "cell_type": "markdown",
   "metadata": {},
   "source": [
    "# 521153S Deep Learning assignment 3: Training CNN networks\n",
    "\n"
   ]
  },
  {
   "cell_type": "markdown",
   "metadata": {},
   "source": [
    "This assignment is designed by Marko Savic.\n",
    "\n",
    "## Outline \n",
    "#### In this assignment, you will learn:\n",
    "* Writing custom dataset in Pytorch with training, validation and testing data.\n",
    "* Building a Convolutional Neural Network (CNN) in Pytorch.\n",
    "* Training and testing your CNN in Pytorch.\n",
    "\n",
    "#### Tasks (<span style=\"color:green\">10 points</span>)\n",
    "* **Part 1.** Writing a custom dataset based on Fashion-MNIST (<span style=\"color:green\">4 points</span>)\n",
    "    * 1.1. Define a Dataset class (<span style=\"color:green\">2 points</span>)\n",
    "    * 1.2. Dataset checking (<span style=\"color:green\">1 points</span>)\n",
    "    * 1.3. Iterating through the dataset with batches (<span style=\"color:green\">1 points</span>)<br>\n",
    "* **Part 2.** Build a CNN on your own. (<span style=\"color:green\">2 points</span>) <br>\n",
    "* **Part 3.** Train and test your CNN. (<span style=\"color:green\">4 points or more</span>)\n",
    "    * 3.1. Create functions for train and evaluation (<span style=\"color:green\">2.5 points</span>) <br>\n",
    "    * 3.2. Train and test your network (<span style=\"color:green\">1.5 point</span>) <br>\n",
    "\n",
    "#### Environment\n",
    "Python 3, Numpy, matplotlib, torch, torchvision\n",
    "\n",
    "#### Dataset\n",
    "* [**Fashion-MNIST**](https://github.com/zalandoresearch/fashion-mnist)\n",
    "is a dataset of Zalando's article images—consisting of a training set of 60,000 examples and a test set of 10,000 examples. Each example is a 28x28 grayscale image, associated with a label from 10 classes. \n",
    "\n",
    "You are to split the 60,000 images in the predefined training set into a new training set with 50,000 images and a validation set with 10,000 images. Fashion-MNIST is a direct drop-in replacement for the original MNIST dataset for benchmarking machine learning algorithms. It shares the same image size and structure of training, validation and testing splits. \n",
    "\n",
    "#### Hints\n",
    "* To find the place where you have to insert your solution, hit Crtl + F and search for **TODO:** . You are not supposed to modify the codes from other parts.\n",
    "* Be careful with the shapes of the tensors flowing through the CNN model, making all the operations have compatible inputs and outputs. "
   ]
  },
  {
   "cell_type": "markdown",
   "metadata": {},
   "source": [
    "## Part 1. Writing a custom dataset based on Fashion-MNIST (<span style=\"color:green\">4 points</span>)"
   ]
  },
  {
   "cell_type": "markdown",
   "metadata": {},
   "source": [
    "### Part 1.1. Define a Dataset class (<span style=\"color:green\">2 points</span>)\n",
    "Here we define a custom dataset by extending the [Dataset](https://pytorch.org/tutorials/beginner/basics/data_tutorial.html) class. "
   ]
  },
  {
   "cell_type": "code",
   "execution_count": 1,
   "metadata": {},
   "outputs": [
    {
     "name": "stdout",
     "output_type": "stream",
     "text": [
      "Defaulting to user installation because normal site-packages is not writeable\n",
      "Requirement already satisfied: onedrivedownloader in /Users/mohammadrad/Library/Python/3.9/lib/python/site-packages (1.1.3)\n",
      "Requirement already satisfied: requests in /Users/mohammadrad/Library/Python/3.9/lib/python/site-packages (from onedrivedownloader) (2.32.3)\n",
      "Requirement already satisfied: tqdm in /Users/mohammadrad/Library/Python/3.9/lib/python/site-packages (from onedrivedownloader) (4.66.1)\n",
      "Requirement already satisfied: charset-normalizer<4,>=2 in /Users/mohammadrad/Library/Python/3.9/lib/python/site-packages (from requests->onedrivedownloader) (3.3.2)\n",
      "Requirement already satisfied: idna<4,>=2.5 in /Users/mohammadrad/Library/Python/3.9/lib/python/site-packages (from requests->onedrivedownloader) (3.8)\n",
      "Requirement already satisfied: urllib3<3,>=1.21.1 in /Users/mohammadrad/Library/Python/3.9/lib/python/site-packages (from requests->onedrivedownloader) (2.2.3)\n",
      "Requirement already satisfied: certifi>=2017.4.17 in /Users/mohammadrad/Library/Python/3.9/lib/python/site-packages (from requests->onedrivedownloader) (2024.8.30)\n"
     ]
    }
   ],
   "source": [
    "!pip install onedrivedownloader"
   ]
  },
  {
   "cell_type": "code",
   "execution_count": 2,
   "metadata": {},
   "outputs": [
    {
     "name": "stderr",
     "output_type": "stream",
     "text": [
      "/Users/mohammadrad/Library/Python/3.9/lib/python/site-packages/urllib3/__init__.py:35: NotOpenSSLWarning: urllib3 v2 only supports OpenSSL 1.1.1+, currently the 'ssl' module is compiled with 'LibreSSL 2.8.3'. See: https://github.com/urllib3/urllib3/issues/3020\n",
      "  warnings.warn(\n"
     ]
    },
    {
     "name": "stdout",
     "output_type": "stream",
     "text": [
      "Downloading dataset\n"
     ]
    },
    {
     "name": "stderr",
     "output_type": "stream",
     "text": [
      "100%|██████████| 30.6M/30.6M [00:11<00:00, 2.70MiB/s]\n"
     ]
    },
    {
     "name": "stdout",
     "output_type": "stream",
     "text": [
      "Unzipping file...\n"
     ]
    },
    {
     "name": "stderr",
     "output_type": "stream",
     "text": [
      "Extracting files: 100%|██████████| 4/4 [00:00<00:00, 21.63it/s]\n"
     ]
    }
   ],
   "source": [
    "from onedrivedownloader import download\n",
    "import os\n",
    "link = 'https://unioulu-my.sharepoint.com/:u:/g/personal/msavic21_univ_yo_oulu_fi/EY1hdgh6AvZKvqYn3WFp5XMB1EDaL0IYST9PIPdBB8f0Eg?e=NSxK4b'\n",
    "\n",
    "if not os.path.exists('./data/fashion_mnist_npy'):\n",
    "    print('Downloading dataset')\n",
    "    download(link, filename=\"./fashion_mnist_npy_hw3\", unzip=True, unzip_path='./data/fashion_mnist_npy')"
   ]
  },
  {
   "cell_type": "code",
   "execution_count": 3,
   "metadata": {},
   "outputs": [
    {
     "name": "stdout",
     "output_type": "stream",
     "text": [
      "60000\n"
     ]
    }
   ],
   "source": [
    "# import necessary packages\n",
    "import os \n",
    "import torch \n",
    "import requests, zipfile, sys\n",
    "import numpy as np\n",
    "import matplotlib.pyplot as plt \n",
    "from torch.utils.data import Dataset, DataLoader\n",
    "import torchvision\n",
    "from PIL import Image\n",
    "import torch\n",
    "import torch.nn as nn\n",
    "import torch.nn.functional as F\n",
    "import torch.optim as optim\n",
    "from torchvision import transforms\n",
    "\n",
    "\n",
    "# fashion_MNIST dataset \n",
    "data_dir='./data/fashion_mnist_npy/'\n",
    "train_data = np.load(os.path.join(data_dir, 'train_data.npy'))\n",
    "test_data = np.load(os.path.join(data_dir, 'test_data.npy'))\n",
    "train_label = np.load(os.path.join(data_dir, 'train_labels.npy'))\n",
    "test_label = np.load(os.path.join(data_dir, 'test_labels.npy'))\n",
    "\n",
    "print(len(train_label))\n",
    "# split the training data to a new training data and validation data\n",
    "class_indices = [[] for i in range(10)]\n",
    "for i, v in enumerate(train_label):\n",
    "    class_indices[v].append(i)\n",
    "\n",
    "indices_all = np.random.permutation(len(class_indices[0]))\n",
    "# take the first 1000 indices of indices_all\n",
    "indices = indices_all[:1000]\n",
    "# take the rest of the indices of indices_all\n",
    "indices_rest = indices_all[1000:]\n",
    "\n",
    "valid_indices = []\n",
    "train_indices = []\n",
    "for i in range(10):\n",
    "    # build indices for validation set\n",
    "    valid_indices.extend(np.array(class_indices[i])[indices])\n",
    "    # TODO: build indices for training set (0.25 points)\n",
    "    train_indices.extend(np.array(class_indices[i])[indices_rest])\n",
    "\n",
    "# write the custom dataset based on the dataset\n",
    "class FashionMnist(Dataset):\n",
    "    \"\"\"Fashion Mnist dataset\"\"\" \n",
    "\n",
    "    def __init__(self, phase='train', transform=None):\n",
    "\n",
    "        # TODO: now, split the predefined training data (1 points)\n",
    "        if 'train' == phase:\n",
    "            self.data = train_data[train_indices]\n",
    "            self.label = train_label[train_indices]\n",
    "\n",
    "            \n",
    "        elif 'valid' == phase:\n",
    "            self.data = train_data[valid_indices]\n",
    "            self.label = train_label[valid_indices]\n",
    "\n",
    "        \n",
    "        elif 'test' == phase:\n",
    "            self.data = test_data\n",
    "            self.label = test_label\n",
    "\n",
    "        \n",
    "        else:\n",
    "            assert True, 'wrong phase'\n",
    "            \n",
    "\n",
    "        self.transform = transform \n",
    "        \n",
    "        self.label_names = ['T-shirt/top', 'Trouser', 'Pullover', 'Dress', 'Coat', 'Sandal','Shirt','Sneaker','Bag','Ankle boot']\n",
    "\n",
    "    def __len__(self):\n",
    "        return len(self.data)\n",
    "\n",
    "    def __getitem__(self, index):\n",
    "        \n",
    "        # TODO: get image and label according to the index (0.25 points)\n",
    "        img = self.data[index]\n",
    "        label = self.label[index]\n",
    "\n",
    "        # to return a PIL Image\n",
    "        img = Image.fromarray(img, mode='L')\n",
    "\n",
    "        if self.transform is not None:\n",
    "            img = self.transform(img)\n",
    "\n",
    "        return img, label\n"
   ]
  },
  {
   "cell_type": "markdown",
   "metadata": {},
   "source": [
    "### Part 1.2. Dataset checking (<span style=\"color:green\">1.5 points</span>)\n",
    "First, randomly show some images in training, validation and testing data and check if the images have correct labels.<br>\n",
    "Secondly, check the number of images for each class, to make sure the dataset created correctly."
   ]
  },
  {
   "cell_type": "code",
   "execution_count": 4,
   "metadata": {},
   "outputs": [
    {
     "data": {
      "image/png": "[encoded data removed]",
      "text/plain": [
       "<Figure size 1600x800 with 5 Axes>"
      ]
     },
     "metadata": {},
     "output_type": "display_data"
    },
    {
     "name": "stdout",
     "output_type": "stream",
     "text": [
      "total number of training set: 50000\n",
      "numer of images for class T-shirt/top: 5000\n",
      "numer of images for class Trouser: 5000\n",
      "numer of images for class Pullover: 5000\n",
      "numer of images for class Dress: 5000\n",
      "numer of images for class Coat: 5000\n",
      "numer of images for class Sandal: 5000\n",
      "numer of images for class Shirt: 5000\n",
      "numer of images for class Sneaker: 5000\n",
      "numer of images for class Bag: 5000\n",
      "numer of images for class Ankle boot: 5000\n"
     ]
    }
   ],
   "source": [
    "# checking training set\n",
    "# randomly show some samples and their labels\n",
    "# TODO: create a FashionMnist dataset for training, set transform to None (0.5 points)\n",
    "train_set = FashionMnist(phase='train', transform=None)\n",
    "\n",
    "num_to_show = 5\n",
    "idx = np.random.choice(range(len(train_set)), num_to_show, replace=False) # randomly pick 5 pictures to show\n",
    "\n",
    "fig = plt.figure(figsize=(16, 8))\n",
    "\n",
    "for i in range(len(idx)):\n",
    "    image, label = train_set[idx[i]] \n",
    "    label_name = train_set.label_names[label]\n",
    "\n",
    "    ax = plt.subplot(1, num_to_show, i + 1)\n",
    "    plt.tight_layout()\n",
    "    ax.set_title('class #{}'.format(label_name))\n",
    "    ax.axis('off')\n",
    "    plt.imshow(np.asarray(image))\n",
    "\n",
    "plt.show()\n",
    "\n",
    "# print number of images for each class\n",
    "print('total number of training set: {}'.format(len(train_set)))\n",
    "for i in range(10):\n",
    "    print('numer of images for class {}: {}'.format(train_set.label_names[i], np.sum(train_set.label==i)))"
   ]
  },
  {
   "cell_type": "code",
   "execution_count": null,
   "metadata": {},
   "outputs": [
    {
     "data": {
      "image/png": "[encoded data removed]",
      "text/plain": [
       "<Figure size 1600x800 with 5 Axes>"
      ]
     },
     "metadata": {},
     "output_type": "display_data"
    },
    {
     "name": "stdout",
     "output_type": "stream",
     "text": [
      "total number of validation set: 10000\n",
      "numer of images for class T-shirt/top: 1000\n",
      "numer of images for class Trouser: 1000\n",
      "numer of images for class Pullover: 1000\n",
      "numer of images for class Dress: 1000\n",
      "numer of images for class Coat: 1000\n",
      "numer of images for class Sandal: 1000\n",
      "numer of images for class Shirt: 1000\n",
      "numer of images for class Sneaker: 1000\n",
      "numer of images for class Bag: 1000\n",
      "numer of images for class Ankle boot: 1000\n"
     ]
    }
   ],
   "source": [
    "# TODO:checking validation data (0.5 points)\n",
    "# your code here, like the training set, the output in this section should be like this (you can have your own visualization style)\n",
    "valid_set = FashionMnist(phase='valid', transform=None)\n",
    "\n",
    "num_to_show = 5\n",
    "idx = np.random.choice(range(len(valid_set)), num_to_show, replace=False) # randomly pick 5 pictures to show\n",
    "\n",
    "fig = plt.figure(figsize=(16, 8))\n",
    "\n",
    "for i in range(len(idx)):\n",
    "    image, label = valid_set[idx[i]] \n",
    "    label_name = valid_set.label_names[label]\n",
    "\n",
    "    ax = plt.subplot(1, num_to_show, i + 1)\n",
    "    plt.tight_layout()\n",
    "    ax.set_title('class #{}'.format(label_name))\n",
    "    ax.axis('off')\n",
    "    plt.imshow(np.asarray(image))\n",
    "\n",
    "plt.show()\n",
    "\n",
    "# print number of images for each class\n",
    "print('total number of validation set: {}'.format(len(valid_set)))\n",
    "for i in range(10):\n",
    "    print('numer of images for class {}: {}'.format(valid_set.label_names[i], np.sum(valid_set.label==i)))"
   ]
  },
  {
   "cell_type": "code",
   "execution_count": 6,
   "metadata": {},
   "outputs": [
    {
     "data": {
      "image/png": "[encoded data removed]",
      "text/plain": [
       "<Figure size 1600x800 with 5 Axes>"
      ]
     },
     "metadata": {},
     "output_type": "display_data"
    },
    {
     "name": "stdout",
     "output_type": "stream",
     "text": [
      "total number of testing set: 10000\n",
      "numer of images for class T-shirt/top: 1000\n",
      "numer of images for class Trouser: 1000\n",
      "numer of images for class Pullover: 1000\n",
      "numer of images for class Dress: 1000\n",
      "numer of images for class Coat: 1000\n",
      "numer of images for class Sandal: 1000\n",
      "numer of images for class Shirt: 1000\n",
      "numer of images for class Sneaker: 1000\n",
      "numer of images for class Bag: 1000\n",
      "numer of images for class Ankle boot: 1000\n"
     ]
    }
   ],
   "source": [
    "# TODO: checking testing data (0.5 points)\n",
    "test_set = FashionMnist(phase='test', transform=None)\n",
    "\n",
    "num_to_show = 5\n",
    "idx = np.random.choice(range(len(test_set)), num_to_show, replace=False) # randomly pick 5 pictures to show\n",
    "\n",
    "fig = plt.figure(figsize=(16, 8))\n",
    "\n",
    "for i in range(len(idx)):\n",
    "    image, label = test_set[idx[i]] \n",
    "    label_name = test_set.label_names[label]\n",
    "\n",
    "    ax = plt.subplot(1, num_to_show, i + 1)\n",
    "    plt.tight_layout()\n",
    "    ax.set_title('class #{}'.format(label_name))\n",
    "    ax.axis('off')\n",
    "    plt.imshow(np.asarray(image))\n",
    "\n",
    "plt.show()\n",
    "\n",
    "# print number of images for each class\n",
    "print('total number of testing set: {}'.format(len(test_set)))\n",
    "for i in range(10):\n",
    "    print('numer of images for class {}: {}'.format(test_set.label_names[i], np.sum(test_set.label==i)))\n"
   ]
  },
  {
   "cell_type": "markdown",
   "metadata": {},
   "source": [
    "### Part 1.3. Iterating through the dataset with batches (<span style=\"color:green\">1 points</span>)\n",
    "Here, we add more features with the help of [DataLoader](https://pytorch.org/tutorials/beginner/data_loading_tutorial.html#iterating-through-the-dataset):\n",
    "* Batching the data\n",
    "* Shuffling the data\n",
    "* Load the data in parallel using multiprocessing workers.\n",
    "\n",
    "`torch.utils.data.DataLoader` is an iterator which provides all these features. Parameters used below should be clear. \n",
    "\n",
    "The `DataLoader` takes as input an instance of `FashionMnist` we defined in Part 1.1. Since images in the dataset currently are all in PIL format, we have to convert them to torch.Tensor by using a transform. Actually, `transform` is often used for data augmentation, further illustrations of `transform` can be found in [https://pytorch.org/tutorials/beginner/data_loading_tutorial.html#writing-custom-datasets-dataloaders-and-transforms](https://pytorch.org/tutorials/beginner/data_loading_tutorial.html#writing-custom-datasets-dataloaders-and-transforms)."
   ]
  },
  {
   "cell_type": "code",
   "execution_count": 11,
   "metadata": {},
   "outputs": [],
   "source": [
    "# Set batch_size to 64, shuffling the training set. Number of workers here is set to 0. If your system is Linux, \n",
    "# it is possible to try more workers to do multi-process parallel reading.\n",
    "data_transform = transforms.Compose([transforms.ToTensor()])\n",
    "\n",
    "train_set = FashionMnist(phase='train', transform=data_transform) \n",
    "train_loader = DataLoader(train_set, batch_size=64, shuffle=True, num_workers=0)\n",
    "\n",
    "# TODO: create test_loader and valid_loader, both with no shuffling (1 points)\n",
    "valid_set = FashionMnist(phase='valid', transform=data_transform) \n",
    "valid_loader = DataLoader(valid_set, batch_size=64, shuffle=False, num_workers=0)\n",
    "\n",
    "test_set = FashionMnist(phase='test', transform=data_transform) \n",
    "test_loader = DataLoader(test_set, batch_size=64, shuffle=False, num_workers=0)\n"
   ]
  },
  {
   "cell_type": "markdown",
   "metadata": {},
   "source": [
    "## Part 2. Build a CNN on your own (<span style=\"color:green\">2 points</span>)\n",
    "Structure of the CNN (**Conv**: convolutional layer, **BN**: Batch Normalization layer, **Max_pool**: max pooling layer, **FC**: fully connected layer, batch_size=64):\n",
    "<!--![model.png](attachment:model.png)-->\n",
    "<img src=https://raw.githubusercontent.com/marukosan93/DL2024_resources/refs/heads/master/CNN.png width=\"800\">"
   ]
  },
  {
   "cell_type": "markdown",
   "metadata": {},
   "source": [
    "To define your own Network, following the rule of thumb:\n",
    "1. Define the layers in `__init__`.\n",
    "2. Do the forward calculation in `forward`."
   ]
  },
  {
   "cell_type": "code",
   "execution_count": 12,
   "metadata": {},
   "outputs": [],
   "source": [
    "import torch\n",
    "import torch.nn as nn\n",
    "\n",
    "class Network(nn.Module):\n",
    "    def __init__(self, num_classes):\n",
    "        super().__init__()\n",
    "        # TODO: define layers (1 points)  \n",
    "        self.conv1 = nn.Conv2d(in_channels=1, out_channels=32, kernel_size=3, padding=0)  # C32 + K3 + P0\n",
    "        self.bn1 = nn.BatchNorm2d(32)\n",
    "        self.relu1 = nn.ReLU()\n",
    "        self.pool1 = nn.MaxPool2d(kernel_size=2, stride=2)  # K2 + S2\n",
    "        \n",
    "        self.conv2 = nn.Conv2d(in_channels=32, out_channels=64, kernel_size=3, padding=0)  # C64 + K3 + P0\n",
    "        self.bn2 = nn.BatchNorm2d(64)\n",
    "        self.relu2 = nn.ReLU()\n",
    "        self.pool2 = nn.MaxPool2d(kernel_size=2, stride=2)  # K2 + S2\n",
    "        \n",
    "        self.flatten = nn.Flatten()\n",
    "        \n",
    "        self.fc1 = nn.Linear(in_features=64 * 5 * 5, out_features=128)\n",
    "        self.relu3 = nn.ReLU()\n",
    "        \n",
    "        self.fc2 = nn.Linear(in_features=128, out_features=num_classes)\n",
    "\n",
    "    def forward(self, x):\n",
    "         # TODO: forwards pass (1 points)  \n",
    "        x = self.conv1(x)\n",
    "        x = self.bn1(x)\n",
    "        x = self.relu1(x)\n",
    "        x = self.pool1(x)\n",
    "        \n",
    "        x = self.conv2(x)\n",
    "        x = self.bn2(x)\n",
    "        x = self.relu2(x)\n",
    "        x = self.pool2(x)\n",
    "        \n",
    "        x = self.flatten(x)\n",
    "        x = self.fc1(x)\n",
    "        x = self.relu3(x)\n",
    "        x = self.fc2(x)\n",
    "        \n",
    "        return x\n"
   ]
  },
  {
   "cell_type": "markdown",
   "metadata": {},
   "source": [
    "## Part 3. Train and test your CNN model (<span style=\"color:green\">4 points</span>)\n",
    "### Part 3.1. Create functions for train and evaluation (<span style=\"color:green\">2.5 points</span>)\n",
    "* Instantiate a network.\n",
    "* When training, create an optimizer to take care of network's parameters, calculate the loss and accuracy.\n",
    "* When evaluating, only the accuracy needs to be calculated"
   ]
  },
  {
   "cell_type": "code",
   "execution_count": 13,
   "metadata": {},
   "outputs": [],
   "source": [
    "# instantiate a network\n",
    "net = Network(num_classes=10)\n",
    "\n",
    "# evaluation function\n",
    "def eval(net, data_loader):\n",
    "    use_cuda = torch.cuda.is_available()\n",
    "    if use_cuda:\n",
    "        net = net.cuda()\n",
    "    net.eval()\n",
    "    correct = 0.0\n",
    "    num_images = 0.0\n",
    "    for i_batch, (images, labels) in enumerate(data_loader):\n",
    "        if use_cuda:\n",
    "            images = images.cuda()\n",
    "            labels = labels.cuda()\n",
    "        outs = net(images) \n",
    "#         _, preds = outs.max(1)\n",
    "        preds = outs.argmax(dim=1)\n",
    "        correct += preds.eq(labels).sum()\n",
    "        num_images += len(labels)\n",
    "\n",
    "    acc = correct / num_images\n",
    "    return acc\n",
    "\n",
    "# training function\n",
    "def train(net, train_loader, valid_loader):\n",
    "    loss_function = torch.nn.CrossEntropyLoss()\n",
    "    # TODO: build your SGD optimizer with learning rate=0.01, momentum=0.9, no weight decay (0.5 points)\n",
    "    # your code here\n",
    "    optimizer = torch.optim.SGD(net.parameters(), lr=0.01, momentum=0.9, weight_decay=0.0)\n",
    "\n",
    "    use_cuda = torch.cuda.is_available()\n",
    "    if use_cuda:\n",
    "        net = net.cuda()\n",
    "        \n",
    "    epoches = 10\n",
    "    for epoch in range(epoches):\n",
    "        net.train() \n",
    "        correct = 0.0 # used to accumulate number of correctly recognized images\n",
    "        num_images = 0.0 # used to accumulate number of images\n",
    "        for i_batch, (images, labels) in enumerate(train_loader):\n",
    "            if use_cuda:\n",
    "                images = images.cuda()\n",
    "                labels = labels.cuda()\n",
    "            # TODO: rest of the training code\n",
    "            # your code here, including the forward propagation (0.75 points), \n",
    "            # backward propagation (0.75 points) and calculating the accuracy (0.5 points)\n",
    "            \n",
    "            # forward propagation\n",
    "            outputs = net(images)\n",
    "            loss = loss_function(outputs, labels)\n",
    "\n",
    "            # backward propagation\n",
    "            optimizer.zero_grad()\n",
    "            loss.backward()\n",
    "            optimizer.step()\n",
    "\n",
    "            # accuracy\n",
    "            preds = outputs.argmax(dim=1)\n",
    "            correct += preds.eq(labels).sum().item()\n",
    "            num_images += len(labels)\n",
    "\n",
    "        acc = correct / num_images\n",
    "        acc_eval = eval(net, valid_loader)\n",
    "        print('epoch: %d, lr: %f, accuracy: %f, loss: %f, valid accuracy: %f' % (epoch, optimizer.param_groups[0]['lr'], acc, loss.item(), acc_eval))\n",
    "\n",
    "    return net"
   ]
  },
  {
   "cell_type": "markdown",
   "metadata": {},
   "source": [
    "### Part 3.2. Train and test your network (<span style=\"color:green\">1.5 points</span>)"
   ]
  },
  {
   "cell_type": "code",
   "execution_count": 14,
   "metadata": {
    "scrolled": true
   },
   "outputs": [
    {
     "name": "stdout",
     "output_type": "stream",
     "text": [
      "Please wait patiently, it may take some seconds...\n",
      "epoch: 0, lr: 0.010000, accuracy: 0.838820, loss: 0.422231, valid accuracy: 0.863100\n",
      "epoch: 1, lr: 0.010000, accuracy: 0.891140, loss: 0.425652, valid accuracy: 0.870600\n",
      "epoch: 2, lr: 0.010000, accuracy: 0.903220, loss: 0.241240, valid accuracy: 0.896000\n",
      "epoch: 3, lr: 0.010000, accuracy: 0.915060, loss: 0.050543, valid accuracy: 0.894200\n",
      "epoch: 4, lr: 0.010000, accuracy: 0.923780, loss: 0.136737, valid accuracy: 0.905000\n",
      "epoch: 5, lr: 0.010000, accuracy: 0.928960, loss: 0.225805, valid accuracy: 0.909700\n",
      "epoch: 6, lr: 0.010000, accuracy: 0.936240, loss: 0.592163, valid accuracy: 0.905800\n",
      "epoch: 7, lr: 0.010000, accuracy: 0.941720, loss: 0.054803, valid accuracy: 0.905100\n",
      "epoch: 8, lr: 0.010000, accuracy: 0.948060, loss: 0.139706, valid accuracy: 0.903100\n",
      "epoch: 9, lr: 0.010000, accuracy: 0.950820, loss: 0.108245, valid accuracy: 0.909100\n",
      "accuracy on testing data: 0.907500\n"
     ]
    }
   ],
   "source": [
    "print('Please wait patiently, it may take some seconds...')\n",
    "# TODO: train your network here (0.75 points)\n",
    "trained_net = train(net, train_loader, valid_loader)\n",
    "\n",
    "# TODO: test your network here on testing data (0.75 points)\n",
    "acc_test = eval(trained_net, test_loader)\n",
    "\n",
    "print('accuracy on testing data: %f' % acc_test) #  a reference output is provided below:"
   ]
  }
 ],
 "metadata": {
  "kernelspec": {
   "display_name": "Python 3",
   "language": "python",
   "name": "python3"
  },
  "language_info": {
   "codemirror_mode": {
    "name": "ipython",
    "version": 3
   },
   "file_extension": ".py",
   "mimetype": "text/x-python",
   "name": "python",
   "nbconvert_exporter": "python",
   "pygments_lexer": "ipython3",
   "version": "3.9.6"
  },
  "pycharm": {
   "stem_cell": {
    "cell_type": "raw",
    "metadata": {
     "collapsed": false
    },
    "source": []
   }
  }
 },
 "nbformat": 4,
 "nbformat_minor": 4
}
